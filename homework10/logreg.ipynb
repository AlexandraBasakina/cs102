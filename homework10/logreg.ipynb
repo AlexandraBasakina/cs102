{
  "nbformat": 4,
  "nbformat_minor": 0,
  "metadata": {
    "colab": {
      "name": "logreg.ipynb",
      "provenance": []
    },
    "kernelspec": {
      "name": "python3",
      "display_name": "Python 3"
    }
  },
  "cells": [
    {
      "cell_type": "code",
      "metadata": {
        "id": "ds09Ead03_VD",
        "colab_type": "code",
        "colab": {
          "base_uri": "https://localhost:8080/",
          "height": 195
        },
        "outputId": "f559c0d3-74b5-4484-cb68-a75eb8f9797c"
      },
      "source": [
        "import pandas as pd\n",
        "import numpy as np\n",
        "from sklearn.model_selection import train_test_split\n",
        "from sklearn import datasets\n",
        "\n",
        "iris = datasets.load_iris()\n",
        "data = pd.DataFrame(iris['data'])\n",
        "data['Class'] = iris.target\n",
        "data.columns = ['Sepal length', 'Sepal width', 'Petal length', 'Petal width', 'Class']\n",
        "data.head()"
      ],
      "execution_count": 3,
      "outputs": [
        {
          "output_type": "execute_result",
          "data": {
            "text/html": [
              "<div>\n",
              "<style scoped>\n",
              "    .dataframe tbody tr th:only-of-type {\n",
              "        vertical-align: middle;\n",
              "    }\n",
              "\n",
              "    .dataframe tbody tr th {\n",
              "        vertical-align: top;\n",
              "    }\n",
              "\n",
              "    .dataframe thead th {\n",
              "        text-align: right;\n",
              "    }\n",
              "</style>\n",
              "<table border=\"1\" class=\"dataframe\">\n",
              "  <thead>\n",
              "    <tr style=\"text-align: right;\">\n",
              "      <th></th>\n",
              "      <th>Sepal length</th>\n",
              "      <th>Sepal width</th>\n",
              "      <th>Petal length</th>\n",
              "      <th>Petal width</th>\n",
              "      <th>Class</th>\n",
              "    </tr>\n",
              "  </thead>\n",
              "  <tbody>\n",
              "    <tr>\n",
              "      <th>0</th>\n",
              "      <td>5.1</td>\n",
              "      <td>3.5</td>\n",
              "      <td>1.4</td>\n",
              "      <td>0.2</td>\n",
              "      <td>0</td>\n",
              "    </tr>\n",
              "    <tr>\n",
              "      <th>1</th>\n",
              "      <td>4.9</td>\n",
              "      <td>3.0</td>\n",
              "      <td>1.4</td>\n",
              "      <td>0.2</td>\n",
              "      <td>0</td>\n",
              "    </tr>\n",
              "    <tr>\n",
              "      <th>2</th>\n",
              "      <td>4.7</td>\n",
              "      <td>3.2</td>\n",
              "      <td>1.3</td>\n",
              "      <td>0.2</td>\n",
              "      <td>0</td>\n",
              "    </tr>\n",
              "    <tr>\n",
              "      <th>3</th>\n",
              "      <td>4.6</td>\n",
              "      <td>3.1</td>\n",
              "      <td>1.5</td>\n",
              "      <td>0.2</td>\n",
              "      <td>0</td>\n",
              "    </tr>\n",
              "    <tr>\n",
              "      <th>4</th>\n",
              "      <td>5.0</td>\n",
              "      <td>3.6</td>\n",
              "      <td>1.4</td>\n",
              "      <td>0.2</td>\n",
              "      <td>0</td>\n",
              "    </tr>\n",
              "  </tbody>\n",
              "</table>\n",
              "</div>"
            ],
            "text/plain": [
              "   Sepal length  Sepal width  Petal length  Petal width  Class\n",
              "0           5.1          3.5           1.4          0.2      0\n",
              "1           4.9          3.0           1.4          0.2      0\n",
              "2           4.7          3.2           1.3          0.2      0\n",
              "3           4.6          3.1           1.5          0.2      0\n",
              "4           5.0          3.6           1.4          0.2      0"
            ]
          },
          "metadata": {
            "tags": []
          },
          "execution_count": 3
        }
      ]
    },
    {
      "cell_type": "code",
      "metadata": {
        "id": "ukp1v0JP4LE5",
        "colab_type": "code",
        "colab": {
          "base_uri": "https://localhost:8080/",
          "height": 50
        },
        "outputId": "dba810f6-e28c-4fe4-df4f-2c3cdd7ec2dd"
      },
      "source": [
        "class LogRegression:  \n",
        "    def __init__(self, lr=0.01, n_iter=100):\n",
        "        self.lr = lr\n",
        "        self.n_iter = n_iter\n",
        "        \n",
        "    def fit(self, X, y):\n",
        "        X = np.hstack([np.ones((len(X), 1)), X])\n",
        "        self.theta = np.zeros(X.shape[1])\n",
        "        for i in range(self.n_iter):\n",
        "            z = X @ self.theta\n",
        "            p =  1 / (1 + np.exp(-z))\n",
        "            gradient = (X.T @ (p - y)) / len(y)\n",
        "            self.theta -= self.lr * gradient\n",
        "\n",
        "        \n",
        "    def predict(self, X):\n",
        "        X = np.hstack([np.ones((len(X), 1)), X])\n",
        "        return 1 / (1 + np.exp(-(X @ self.theta)))\n",
        "X_train, X_test, Y_train, Y_test = train_test_split(data[['Sepal length', 'Sepal width', 'Petal length', 'Petal width']], \\\n",
        "                                                    data['Class'], test_size=0.33, random_state=18)\n",
        "model = LogRegression(lr=0.001, n_iter=100)\n",
        "%time model.fit(X_train, Y_train)"
      ],
      "execution_count": 11,
      "outputs": [
        {
          "output_type": "stream",
          "text": [
            "CPU times: user 22.3 ms, sys: 0 ns, total: 22.3 ms\n",
            "Wall time: 22.3 ms\n"
          ],
          "name": "stdout"
        }
      ]
    },
    {
      "cell_type": "code",
      "metadata": {
        "id": "CdA0hKsa4UrL",
        "colab_type": "code",
        "colab": {
          "base_uri": "https://localhost:8080/",
          "height": 185
        },
        "outputId": "827e38a4-0457-48dd-f753-eb27251d4d7c"
      },
      "source": [
        "y_pred = model.predict(X_test)\n",
        "y_pred"
      ],
      "execution_count": 13,
      "outputs": [
        {
          "output_type": "execute_result",
          "data": {
            "text/plain": [
              "array([0.8817468 , 0.8960065 , 0.88476453, 0.80685411, 0.80369452,\n",
              "       0.81596845, 0.94490881, 0.77853231, 0.94711836, 0.91059336,\n",
              "       0.94367749, 0.91998175, 0.83731518, 0.95301777, 0.82517283,\n",
              "       0.92142536, 0.81006454, 0.9578865 , 0.79493229, 0.80276206,\n",
              "       0.91290131, 0.92235713, 0.92333204, 0.9200925 , 0.92373434,\n",
              "       0.81911875, 0.79733605, 0.80882901, 0.93969971, 0.93511632,\n",
              "       0.94323008, 0.93451508, 0.89451185, 0.93586222, 0.92047607,\n",
              "       0.80394469, 0.89734588, 0.93834616, 0.9004339 , 0.93611714,\n",
              "       0.81741558, 0.89589367, 0.90019217, 0.79134549, 0.93981856,\n",
              "       0.92626752, 0.93706046, 0.80435612, 0.9208418 , 0.86006318])"
            ]
          },
          "metadata": {
            "tags": []
          },
          "execution_count": 13
        }
      ]
    },
    {
      "cell_type": "code",
      "metadata": {
        "id": "MiQZpu7K4WrP",
        "colab_type": "code",
        "colab": {
          "base_uri": "https://localhost:8080/",
          "height": 34
        },
        "outputId": "c2ba1fa2-c95a-4dfc-e9a5-0906edc94d00"
      },
      "source": [
        "model.theta"
      ],
      "execution_count": 14,
      "outputs": [
        {
          "output_type": "execute_result",
          "data": {
            "text/plain": [
              "array([0.02271124, 0.1803917 , 0.05317006, 0.21256746, 0.08010354])"
            ]
          },
          "metadata": {
            "tags": []
          },
          "execution_count": 14
        }
      ]
    }
  ]
}